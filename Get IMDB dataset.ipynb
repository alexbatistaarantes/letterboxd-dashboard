{
 "cells": [
  {
   "cell_type": "code",
   "execution_count": 13,
   "id": "fd1cc3d3",
   "metadata": {},
   "outputs": [],
   "source": [
    "import requests\n",
    "from io import BytesIO\n",
    "import gzip\n",
    "import pandas as pd"
   ]
  },
  {
   "cell_type": "markdown",
   "id": "7bb308b7",
   "metadata": {},
   "source": [
    "Getting the GZIP containing the dataset file"
   ]
  },
  {
   "cell_type": "code",
   "execution_count": 11,
   "id": "307104b9",
   "metadata": {},
   "outputs": [
    {
     "name": "stdout",
     "output_type": "stream",
     "text": [
      "b'\\x1f\\x8b\\x08\\x08\\xb0\\xc2\\xf4c\\x00\\x03data.tsv\\x00\\xac\\\\[o\\xe48v~\\xae\\xfc\\n\\xee\\x93\\x13\\xc0=p\\x95\\xef\\x9b\\'\\xdbe\\xf7e\\xedn\\xc3\\xe5\\xee\\x9e\\t\\xf2\\xc2\\x92XU\\x1cK\\xa2\\x86\\x94lW\\xff\\x83\\xfd\\x17;\\xb9`\\xda\\x0bL\\x80 A\\x80$\\xd8\\'\\xfd\\xb1|\\x87*QR\\x95\\xa4Rgv03.\\x1dJ\\x87\"y'\n"
     ]
    }
   ],
   "source": [
    "# URL of the GZIP containing the dataset file\n",
    "URL_IMDB_DATASET_GZIP = \"http://127.0.0.1:5500/title.basics.tsv.gz\" #\"https://datasets.imdbws.com/title.basics.tsv.gz\"\n",
    "\n",
    "# Requesting the GZIP\n",
    "gzip_response = requests.get(URL_IMDB_DATASET_GZIP)"
   ]
  },
  {
   "cell_type": "markdown",
   "id": "6d1db0bb",
   "metadata": {},
   "source": []
  },
  {
   "cell_type": "code",
   "execution_count": 18,
   "id": "affc3f0d",
   "metadata": {},
   "outputs": [
    {
     "data": {
      "text/html": [
       "<div>\n",
       "<style scoped>\n",
       "    .dataframe tbody tr th:only-of-type {\n",
       "        vertical-align: middle;\n",
       "    }\n",
       "\n",
       "    .dataframe tbody tr th {\n",
       "        vertical-align: top;\n",
       "    }\n",
       "\n",
       "    .dataframe thead th {\n",
       "        text-align: right;\n",
       "    }\n",
       "</style>\n",
       "<table border=\"1\" class=\"dataframe\">\n",
       "  <thead>\n",
       "    <tr style=\"text-align: right;\">\n",
       "      <th></th>\n",
       "      <th>tconst</th>\n",
       "      <th>titleType</th>\n",
       "      <th>primaryTitle</th>\n",
       "      <th>originalTitle</th>\n",
       "      <th>isAdult</th>\n",
       "      <th>startYear</th>\n",
       "      <th>endYear</th>\n",
       "      <th>runtimeMinutes</th>\n",
       "      <th>genres</th>\n",
       "    </tr>\n",
       "  </thead>\n",
       "  <tbody>\n",
       "    <tr>\n",
       "      <th>0</th>\n",
       "      <td>tt0000001</td>\n",
       "      <td>short</td>\n",
       "      <td>Carmencita</td>\n",
       "      <td>Carmencita</td>\n",
       "      <td>0</td>\n",
       "      <td>1894</td>\n",
       "      <td>NaN</td>\n",
       "      <td>1</td>\n",
       "      <td>Documentary,Short</td>\n",
       "    </tr>\n",
       "    <tr>\n",
       "      <th>1</th>\n",
       "      <td>tt0000002</td>\n",
       "      <td>short</td>\n",
       "      <td>Le clown et ses chiens</td>\n",
       "      <td>Le clown et ses chiens</td>\n",
       "      <td>0</td>\n",
       "      <td>1892</td>\n",
       "      <td>NaN</td>\n",
       "      <td>5</td>\n",
       "      <td>Animation,Short</td>\n",
       "    </tr>\n",
       "    <tr>\n",
       "      <th>2</th>\n",
       "      <td>tt0000003</td>\n",
       "      <td>short</td>\n",
       "      <td>Pauvre Pierrot</td>\n",
       "      <td>Pauvre Pierrot</td>\n",
       "      <td>0</td>\n",
       "      <td>1892</td>\n",
       "      <td>NaN</td>\n",
       "      <td>4</td>\n",
       "      <td>Animation,Comedy,Romance</td>\n",
       "    </tr>\n",
       "    <tr>\n",
       "      <th>3</th>\n",
       "      <td>tt0000004</td>\n",
       "      <td>short</td>\n",
       "      <td>Un bon bock</td>\n",
       "      <td>Un bon bock</td>\n",
       "      <td>0</td>\n",
       "      <td>1892</td>\n",
       "      <td>NaN</td>\n",
       "      <td>12</td>\n",
       "      <td>Animation,Short</td>\n",
       "    </tr>\n",
       "    <tr>\n",
       "      <th>4</th>\n",
       "      <td>tt0000005</td>\n",
       "      <td>short</td>\n",
       "      <td>Blacksmith Scene</td>\n",
       "      <td>Blacksmith Scene</td>\n",
       "      <td>0</td>\n",
       "      <td>1893</td>\n",
       "      <td>NaN</td>\n",
       "      <td>1</td>\n",
       "      <td>Comedy,Short</td>\n",
       "    </tr>\n",
       "  </tbody>\n",
       "</table>\n",
       "</div>"
      ],
      "text/plain": [
       "      tconst titleType            primaryTitle           originalTitle  \\\n",
       "0  tt0000001     short              Carmencita              Carmencita   \n",
       "1  tt0000002     short  Le clown et ses chiens  Le clown et ses chiens   \n",
       "2  tt0000003     short          Pauvre Pierrot          Pauvre Pierrot   \n",
       "3  tt0000004     short             Un bon bock             Un bon bock   \n",
       "4  tt0000005     short        Blacksmith Scene        Blacksmith Scene   \n",
       "\n",
       "  isAdult  startYear endYear runtimeMinutes                    genres  \n",
       "0       0       1894     NaN              1         Documentary,Short  \n",
       "1       0       1892     NaN              5           Animation,Short  \n",
       "2       0       1892     NaN              4  Animation,Comedy,Romance  \n",
       "3       0       1892     NaN             12           Animation,Short  \n",
       "4       0       1893     NaN              1              Comedy,Short  "
      ]
     },
     "execution_count": 18,
     "metadata": {},
     "output_type": "execute_result"
    }
   ],
   "source": [
    "with gzip.open(BytesIO(gzip_response.content), 'rt') as gzip_file:\n",
    "    # Creating Dataframe from byte object\n",
    "    imdb = pd.read_csv(gzip_file, sep=\"\\t\", na_values=r'\\N', \\\n",
    "        dtype={ \\\n",
    "            \"tcost\": object, \\\n",
    "            \"titleType\": object, \\\n",
    "            \"primaryTitle\": object, \\\n",
    "            \"originalTitle\": object, \\\n",
    "            \"isAdult\": object, \\\n",
    "            \"startYear\": 'Int64', \\\n",
    "            \"endYear\": object, \\\n",
    "            \"runtimeMinutes\": object, \\\n",
    "            \"genres\": object, \\\n",
    "        } \\\n",
    "    )"
   ]
  },
  {
   "cell_type": "markdown",
   "id": "f2704f6f",
   "metadata": {},
   "source": [
    "Filtering and cleaning the dataset"
   ]
  },
  {
   "cell_type": "code",
   "execution_count": 19,
   "id": "ced95db5",
   "metadata": {},
   "outputs": [],
   "source": [
    "# Filtering only movies\n",
    "imdb = imdb.loc[imdb.titleType == \"movie\"]\n",
    "\n",
    "# Dropping any movie with no year of release\n",
    "imdb = imdb.dropna(subset=\"startYear\")\n",
    "\n",
    "# Dropping unnecessary columns\n",
    "imdb.drop(\n",
    "    labels=['tconst', 'titleType', 'originalTitle', 'isAdult', 'endYear'],\n",
    "    axis=1,\n",
    "    inplace=True\n",
    ")"
   ]
  },
  {
   "cell_type": "markdown",
   "id": "2afa48d6",
   "metadata": {},
   "source": [
    "Writing to .TSV file"
   ]
  },
  {
   "cell_type": "code",
   "execution_count": 8,
   "id": "7ff377f1",
   "metadata": {},
   "outputs": [],
   "source": [
    "imdb.to_csv(\"imdb.tsv\", sep=\"\\t\")"
   ]
  }
 ],
 "metadata": {
  "kernelspec": {
   "display_name": "Python 3 (ipykernel)",
   "language": "python",
   "name": "python3"
  },
  "language_info": {
   "codemirror_mode": {
    "name": "ipython",
    "version": 3
   },
   "file_extension": ".py",
   "mimetype": "text/x-python",
   "name": "python",
   "nbconvert_exporter": "python",
   "pygments_lexer": "ipython3",
   "version": "3.9.2"
  }
 },
 "nbformat": 4,
 "nbformat_minor": 5
}
