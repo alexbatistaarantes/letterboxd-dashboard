{
 "cells": [
  {
   "cell_type": "code",
   "execution_count": 1,
   "id": "fd1cc3d3",
   "metadata": {},
   "outputs": [],
   "source": [
    "import requests\n",
    "from io import BytesIO\n",
    "import gzip\n",
    "import pandas as pd"
   ]
  },
  {
   "cell_type": "markdown",
   "id": "7bb308b7",
   "metadata": {},
   "source": [
    "Getting the GZIP containing the dataset file"
   ]
  },
  {
   "cell_type": "code",
   "execution_count": 2,
   "id": "307104b9",
   "metadata": {},
   "outputs": [],
   "source": [
    "# URL of the GZIP containing the dataset file\n",
    "URL_IMDB_DATASET_GZIP = \"https://datasets.imdbws.com/title.basics.tsv.gz\"\n",
    "\n",
    "# Requesting the GZIP\n",
    "gzip_response = requests.get(URL_IMDB_DATASET_GZIP)"
   ]
  },
  {
   "cell_type": "markdown",
   "id": "6d1db0bb",
   "metadata": {},
   "source": [
    "Loading the dataset to a dataframe"
   ]
  },
  {
   "cell_type": "code",
   "execution_count": 4,
   "id": "affc3f0d",
   "metadata": {},
   "outputs": [],
   "source": [
    "with gzip.open(BytesIO(gzip_response.content), 'rt') as gzip_file:\n",
    "    # Creating Dataframe from byte object\n",
    "    imdb = pd.read_csv(gzip_file, sep=\"\\t\", na_values=r'\\N', \\\n",
    "        dtype={ \\\n",
    "            \"tcost\": object, \\\n",
    "            \"titleType\": object, \\\n",
    "            \"primaryTitle\": object, \\\n",
    "            \"originalTitle\": object, \\\n",
    "            \"isAdult\": object, \\\n",
    "            \"startYear\": 'Int64', \\\n",
    "            \"endYear\": object, \\\n",
    "            \"runtimeMinutes\": object, \\\n",
    "            \"genres\": object, \\\n",
    "        } \\\n",
    "    )"
   ]
  },
  {
   "cell_type": "markdown",
   "id": "f2704f6f",
   "metadata": {},
   "source": [
    "Filtering and cleaning the dataset"
   ]
  },
  {
   "cell_type": "code",
   "execution_count": 5,
   "id": "ced95db5",
   "metadata": {},
   "outputs": [],
   "source": [
    "# Filtering only movies\n",
    "imdb = imdb.loc[imdb.titleType == \"movie\"]\n",
    "\n",
    "# Dropping any movie with no year of release\n",
    "imdb = imdb.dropna(subset=\"startYear\")\n",
    "\n",
    "# Dropping unnecessary columns\n",
    "imdb.drop(\n",
    "    labels=['tconst', 'titleType', 'originalTitle', 'isAdult', 'endYear'],\n",
    "    axis=1,\n",
    "    inplace=True\n",
    ")"
   ]
  },
  {
   "cell_type": "markdown",
   "id": "2afa48d6",
   "metadata": {},
   "source": [
    "Writing to .TSV file"
   ]
  },
  {
   "cell_type": "code",
   "execution_count": null,
   "id": "7ff377f1",
   "metadata": {},
   "outputs": [],
   "source": [
    "imdb.to_csv(\"imdb.tsv\", sep=\"\\t\")"
   ]
  },
  {
   "cell_type": "code",
   "execution_count": 6,
   "id": "ac61171a",
   "metadata": {},
   "outputs": [
    {
     "data": {
      "text/html": [
       "<div>\n",
       "<style scoped>\n",
       "    .dataframe tbody tr th:only-of-type {\n",
       "        vertical-align: middle;\n",
       "    }\n",
       "\n",
       "    .dataframe tbody tr th {\n",
       "        vertical-align: top;\n",
       "    }\n",
       "\n",
       "    .dataframe thead th {\n",
       "        text-align: right;\n",
       "    }\n",
       "</style>\n",
       "<table border=\"1\" class=\"dataframe\">\n",
       "  <thead>\n",
       "    <tr style=\"text-align: right;\">\n",
       "      <th></th>\n",
       "      <th>primaryTitle</th>\n",
       "      <th>startYear</th>\n",
       "      <th>runtimeMinutes</th>\n",
       "      <th>genres</th>\n",
       "    </tr>\n",
       "  </thead>\n",
       "  <tbody>\n",
       "    <tr>\n",
       "      <th>8</th>\n",
       "      <td>Miss Jerry</td>\n",
       "      <td>1894</td>\n",
       "      <td>45</td>\n",
       "      <td>Romance</td>\n",
       "    </tr>\n",
       "    <tr>\n",
       "      <th>144</th>\n",
       "      <td>The Corbett-Fitzsimmons Fight</td>\n",
       "      <td>1897</td>\n",
       "      <td>100</td>\n",
       "      <td>Documentary,News,Sport</td>\n",
       "    </tr>\n",
       "    <tr>\n",
       "      <th>498</th>\n",
       "      <td>Bohemios</td>\n",
       "      <td>1905</td>\n",
       "      <td>100</td>\n",
       "      <td>NaN</td>\n",
       "    </tr>\n",
       "    <tr>\n",
       "      <th>570</th>\n",
       "      <td>The Story of the Kelly Gang</td>\n",
       "      <td>1906</td>\n",
       "      <td>70</td>\n",
       "      <td>Action,Adventure,Biography</td>\n",
       "    </tr>\n",
       "    <tr>\n",
       "      <th>587</th>\n",
       "      <td>The Prodigal Son</td>\n",
       "      <td>1907</td>\n",
       "      <td>90</td>\n",
       "      <td>Drama</td>\n",
       "    </tr>\n",
       "  </tbody>\n",
       "</table>\n",
       "</div>"
      ],
      "text/plain": [
       "                      primaryTitle  startYear runtimeMinutes  \\\n",
       "8                       Miss Jerry       1894             45   \n",
       "144  The Corbett-Fitzsimmons Fight       1897            100   \n",
       "498                       Bohemios       1905            100   \n",
       "570    The Story of the Kelly Gang       1906             70   \n",
       "587               The Prodigal Son       1907             90   \n",
       "\n",
       "                         genres  \n",
       "8                       Romance  \n",
       "144      Documentary,News,Sport  \n",
       "498                         NaN  \n",
       "570  Action,Adventure,Biography  \n",
       "587                       Drama  "
      ]
     },
     "execution_count": 6,
     "metadata": {},
     "output_type": "execute_result"
    }
   ],
   "source": [
    "imdb.head()"
   ]
  }
 ],
 "metadata": {
  "kernelspec": {
   "display_name": "Python 3 (ipykernel)",
   "language": "python",
   "name": "python3"
  },
  "language_info": {
   "codemirror_mode": {
    "name": "ipython",
    "version": 3
   },
   "file_extension": ".py",
   "mimetype": "text/x-python",
   "name": "python",
   "nbconvert_exporter": "python",
   "pygments_lexer": "ipython3",
   "version": "3.9.2"
  }
 },
 "nbformat": 4,
 "nbformat_minor": 5
}
